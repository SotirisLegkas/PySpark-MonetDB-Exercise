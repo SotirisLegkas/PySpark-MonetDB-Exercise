{
 "cells": [
  {
   "cell_type": "markdown",
   "id": "eff871ce",
   "metadata": {},
   "source": [
    "### \"Large Scale Data Management\""
   ]
  },
  {
   "cell_type": "markdown",
   "id": "62b1d07c",
   "metadata": {},
   "source": [
    "### Assignment"
   ]
  },
  {
   "cell_type": "markdown",
   "id": "175ff3fd",
   "metadata": {},
   "source": [
    "#### Name: Legkas Sotiris"
   ]
  },
  {
   "cell_type": "markdown",
   "id": "05add9e0",
   "metadata": {},
   "source": [
    "#### Student ID: f3352112"
   ]
  },
  {
   "cell_type": "code",
   "execution_count": 1,
   "id": "8884691c",
   "metadata": {},
   "outputs": [],
   "source": [
    "import pyspark\n",
    "from pyspark.sql import *\n",
    "from pyspark.sql.types import *\n",
    "from pyspark import SparkContext, SparkConf\n",
    "from pyspark.sql import *\n",
    "from pyspark.sql.functions import udf\n",
    "from pyspark.sql.types import *\n",
    "import os\n",
    "import sys\n",
    "\n",
    "os.environ['PYSPARK_PYTHON'] = sys.executable\n",
    "os.environ['PYSPARK_DRIVER_PYTHON'] = sys.executable\n",
    "\n",
    "spark = SparkSession.builder.appName(\"zillow\").getOrCreate()"
   ]
  },
  {
   "cell_type": "code",
   "execution_count": 2,
   "id": "6f034600",
   "metadata": {},
   "outputs": [],
   "source": [
    "#Import csv file into a DataFrame\n",
    "df = spark.read.csv('C:/........./zillow.csv', header=True)"
   ]
  },
  {
   "cell_type": "code",
   "execution_count": 4,
   "id": "a37d45f8",
   "metadata": {},
   "outputs": [
    {
     "name": "stdout",
     "output_type": "stream",
     "text": [
      "+--------------+-------+------------+-----+-----------+----------+--------------------+--------------------+\n",
      "|         title|address|        city|state|postal_code|     price|  facts and features|real estate provider|\n",
      "+--------------+-------+------------+-----+-----------+----------+--------------------+--------------------+\n",
      "|Condo for sale|   null|  Somerville|   MA|      02145|  $342,000|2 bds, 1.0 ba ,70...|William Raveis R....|\n",
      "|Condo for sale|   null|      Boston|   MA|      02116|$1,700,000|2 bds, 2.0 ba ,12...|Century 21 North ...|\n",
      "|Condo for sale|   null|      Boston|   MA|      02118|  $336,500|1 bds, 1.0 ba ,10...|Maloney Propertie...|\n",
      "|House for sale|   null|      Boston|   MA|      02118|$9,950,000|4 bds, 7.0 ba ,68...|Campion & Company...|\n",
      "|Condo for sale|   null|      Boston|   MA|      02128|  $479,000|2 bds, 3.0 ba ,10...|Berkshire Hathawa...|\n",
      "|House for sale|   null| East Boston|   MA|      02128|  $899,000|3 bds, 3.0 ba ,23...|Berkshire Hathawa...|\n",
      "|Condo for sale|   null|  Somerville|   MA|      02145|  $397,300|2 bds, 1.0 ba ,78...|William Raveis R....|\n",
      "|Condo for sale|   null|South Boston|   MA|      02127|  $619,900|2 bds, 1.0 ba ,85...|Bento Real Estate...|\n",
      "|Condo for sale|   null|      Boston|   MA|      02116|  $850,000|1 bds, 1.0 ba ,67...|Engel & Volkers B...|\n",
      "|Condo for sale|   null|      Boston|   MA|      02114|  $649,900|2 bds, 1.0 ba ,51...|Leading Edge Real...|\n",
      "+--------------+-------+------------+-----+-----------+----------+--------------------+--------------------+\n",
      "only showing top 10 rows\n",
      "\n"
     ]
    }
   ],
   "source": [
    "df.show(10)"
   ]
  },
  {
   "cell_type": "markdown",
   "id": "47de47ae",
   "metadata": {},
   "source": [
    "### Question 1\n",
    "\n",
    "Extract number of bedrooms. You will implement a UDF that processes the \"facts_and_features\" column and extracts the number of bedrooms."
   ]
  },
  {
   "cell_type": "code",
   "execution_count": 5,
   "id": "ae97b280",
   "metadata": {},
   "outputs": [],
   "source": [
    "#Create function which extracts the number of bedrooms from a string\n",
    "def beds(str):\n",
    "    if str.split()[0]=='None':\n",
    "        return 0\n",
    "    else:\n",
    "        return int(str.split()[0])"
   ]
  },
  {
   "cell_type": "code",
   "execution_count": 6,
   "id": "d23f3c0c",
   "metadata": {},
   "outputs": [],
   "source": [
    "#Create user-defined function for bedrooms\n",
    "bedsUDF=udf(lambda z:beds(z),StringType())   "
   ]
  },
  {
   "cell_type": "code",
   "execution_count": 7,
   "id": "afdbe516",
   "metadata": {},
   "outputs": [],
   "source": [
    "#Apply UDF in a specific column and create a new column in the DataFrame with the number of bedrooms\n",
    "df = df.withColumn('beds',bedsUDF('facts and features'))"
   ]
  },
  {
   "cell_type": "code",
   "execution_count": 8,
   "id": "a13b6b0b",
   "metadata": {},
   "outputs": [
    {
     "name": "stdout",
     "output_type": "stream",
     "text": [
      "+--------------+-------+------------+-----+-----------+----------+--------------------+--------------------+----+\n",
      "|         title|address|        city|state|postal_code|     price|  facts and features|real estate provider|beds|\n",
      "+--------------+-------+------------+-----+-----------+----------+--------------------+--------------------+----+\n",
      "|Condo for sale|   null|  Somerville|   MA|      02145|  $342,000|2 bds, 1.0 ba ,70...|William Raveis R....|   2|\n",
      "|Condo for sale|   null|      Boston|   MA|      02116|$1,700,000|2 bds, 2.0 ba ,12...|Century 21 North ...|   2|\n",
      "|Condo for sale|   null|      Boston|   MA|      02118|  $336,500|1 bds, 1.0 ba ,10...|Maloney Propertie...|   1|\n",
      "|House for sale|   null|      Boston|   MA|      02118|$9,950,000|4 bds, 7.0 ba ,68...|Campion & Company...|   4|\n",
      "|Condo for sale|   null|      Boston|   MA|      02128|  $479,000|2 bds, 3.0 ba ,10...|Berkshire Hathawa...|   2|\n",
      "|House for sale|   null| East Boston|   MA|      02128|  $899,000|3 bds, 3.0 ba ,23...|Berkshire Hathawa...|   3|\n",
      "|Condo for sale|   null|  Somerville|   MA|      02145|  $397,300|2 bds, 1.0 ba ,78...|William Raveis R....|   2|\n",
      "|Condo for sale|   null|South Boston|   MA|      02127|  $619,900|2 bds, 1.0 ba ,85...|Bento Real Estate...|   2|\n",
      "|Condo for sale|   null|      Boston|   MA|      02116|  $850,000|1 bds, 1.0 ba ,67...|Engel & Volkers B...|   1|\n",
      "|Condo for sale|   null|      Boston|   MA|      02114|  $649,900|2 bds, 1.0 ba ,51...|Leading Edge Real...|   2|\n",
      "+--------------+-------+------------+-----+-----------+----------+--------------------+--------------------+----+\n",
      "only showing top 10 rows\n",
      "\n"
     ]
    }
   ],
   "source": [
    "df.show(10)"
   ]
  },
  {
   "cell_type": "markdown",
   "id": "03df5b33",
   "metadata": {},
   "source": [
    "### Question 2\n",
    "\n",
    "Extract number of bathrooms. You will implement a UDF that processes the \"facts_and_features\" column and extracts the number of bathrooms.\n"
   ]
  },
  {
   "cell_type": "code",
   "execution_count": 9,
   "id": "cb19b3ce",
   "metadata": {},
   "outputs": [
    {
     "name": "stdout",
     "output_type": "stream",
     "text": [
      "+--------------+-------+------------+-----+-----------+----------+--------------------+--------------------+----+-----+\n",
      "|         title|address|        city|state|postal_code|     price|  facts and features|real estate provider|beds|baths|\n",
      "+--------------+-------+------------+-----+-----------+----------+--------------------+--------------------+----+-----+\n",
      "|Condo for sale|   null|  Somerville|   MA|      02145|  $342,000|2 bds, 1.0 ba ,70...|William Raveis R....|   2|    1|\n",
      "|Condo for sale|   null|      Boston|   MA|      02116|$1,700,000|2 bds, 2.0 ba ,12...|Century 21 North ...|   2|    2|\n",
      "|Condo for sale|   null|      Boston|   MA|      02118|  $336,500|1 bds, 1.0 ba ,10...|Maloney Propertie...|   1|    1|\n",
      "|House for sale|   null|      Boston|   MA|      02118|$9,950,000|4 bds, 7.0 ba ,68...|Campion & Company...|   4|    7|\n",
      "|Condo for sale|   null|      Boston|   MA|      02128|  $479,000|2 bds, 3.0 ba ,10...|Berkshire Hathawa...|   2|    3|\n",
      "|House for sale|   null| East Boston|   MA|      02128|  $899,000|3 bds, 3.0 ba ,23...|Berkshire Hathawa...|   3|    3|\n",
      "|Condo for sale|   null|  Somerville|   MA|      02145|  $397,300|2 bds, 1.0 ba ,78...|William Raveis R....|   2|    1|\n",
      "|Condo for sale|   null|South Boston|   MA|      02127|  $619,900|2 bds, 1.0 ba ,85...|Bento Real Estate...|   2|    1|\n",
      "|Condo for sale|   null|      Boston|   MA|      02116|  $850,000|1 bds, 1.0 ba ,67...|Engel & Volkers B...|   1|    1|\n",
      "|Condo for sale|   null|      Boston|   MA|      02114|  $649,900|2 bds, 1.0 ba ,51...|Leading Edge Real...|   2|    1|\n",
      "+--------------+-------+------------+-----+-----------+----------+--------------------+--------------------+----+-----+\n",
      "only showing top 10 rows\n",
      "\n"
     ]
    }
   ],
   "source": [
    "#Create function which extracts the number of bathrooms from a string\n",
    "def baths(str):\n",
    "    if str.split()[2]=='None':\n",
    "        return 0\n",
    "    else:\n",
    "        return int(float(str.split()[2]))\n",
    "\n",
    "#Create user-defined function for bathrooms\n",
    "bathsUDF=udf(lambda z:baths(z),StringType())   \n",
    "\n",
    "#Apply UDF in a specific column and create a new column in the DataFrame with the number of bathrooms\n",
    "df = df.withColumn('baths',bathsUDF('facts and features'))\n",
    "\n",
    "df.show(10)"
   ]
  },
  {
   "cell_type": "markdown",
   "id": "4266b73c",
   "metadata": {},
   "source": [
    "### Question 3\n",
    "\n",
    "Extract sqft. You will implement a UDF that processes the \"facts_and_features\" column and extracts the sqft."
   ]
  },
  {
   "cell_type": "code",
   "execution_count": 10,
   "id": "232e0a8d",
   "metadata": {},
   "outputs": [
    {
     "name": "stdout",
     "output_type": "stream",
     "text": [
      "+--------------+-------+------------+-----+-----------+----------+--------------------+--------------------+----+-----+----+\n",
      "|         title|address|        city|state|postal_code|     price|  facts and features|real estate provider|beds|baths|sqft|\n",
      "+--------------+-------+------------+-----+-----------+----------+--------------------+--------------------+----+-----+----+\n",
      "|Condo for sale|   null|  Somerville|   MA|      02145|  $342,000|2 bds, 1.0 ba ,70...|William Raveis R....|   2|    1| 705|\n",
      "|Condo for sale|   null|      Boston|   MA|      02116|$1,700,000|2 bds, 2.0 ba ,12...|Century 21 North ...|   2|    2|1228|\n",
      "|Condo for sale|   null|      Boston|   MA|      02118|  $336,500|1 bds, 1.0 ba ,10...|Maloney Propertie...|   1|    1|1000|\n",
      "|House for sale|   null|      Boston|   MA|      02118|$9,950,000|4 bds, 7.0 ba ,68...|Campion & Company...|   4|    7|6836|\n",
      "|Condo for sale|   null|      Boston|   MA|      02128|  $479,000|2 bds, 3.0 ba ,10...|Berkshire Hathawa...|   2|    3|1000|\n",
      "|House for sale|   null| East Boston|   MA|      02128|  $899,000|3 bds, 3.0 ba ,23...|Berkshire Hathawa...|   3|    3|2313|\n",
      "|Condo for sale|   null|  Somerville|   MA|      02145|  $397,300|2 bds, 1.0 ba ,78...|William Raveis R....|   2|    1| 780|\n",
      "|Condo for sale|   null|South Boston|   MA|      02127|  $619,900|2 bds, 1.0 ba ,85...|Bento Real Estate...|   2|    1| 856|\n",
      "|Condo for sale|   null|      Boston|   MA|      02116|  $850,000|1 bds, 1.0 ba ,67...|Engel & Volkers B...|   1|    1| 675|\n",
      "|Condo for sale|   null|      Boston|   MA|      02114|  $649,900|2 bds, 1.0 ba ,51...|Leading Edge Real...|   2|    1| 511|\n",
      "+--------------+-------+------------+-----+-----------+----------+--------------------+--------------------+----+-----+----+\n",
      "only showing top 10 rows\n",
      "\n"
     ]
    }
   ],
   "source": [
    "#Create function which extracts the number of sqft from a string\n",
    "def sqft(str):\n",
    "    if str.split(',')[2].split()[0]==\"None\":\n",
    "        return 0\n",
    "    else:\n",
    "        return int(str.split(',')[2].split()[0])\n",
    "\n",
    "#Create user-defined function for sqft\n",
    "sqftUDF=udf(lambda z:sqft(z),StringType())   \n",
    "\n",
    "#Apply UDF in a specific column and create a new column in the DataFrame with the number of sqft\n",
    "df = df.withColumn('sqft',sqftUDF('facts and features'))\n",
    "\n",
    "df.show(10)"
   ]
  },
  {
   "cell_type": "markdown",
   "id": "f0e4b61d",
   "metadata": {},
   "source": [
    "### Question 4\n",
    "\n",
    "Extract type. You will implement a UDF that processes the \"title\" column and returns the type of the listing (e.g. condo, house, apartment)"
   ]
  },
  {
   "cell_type": "code",
   "execution_count": 11,
   "id": "5d1218ab",
   "metadata": {},
   "outputs": [
    {
     "name": "stdout",
     "output_type": "stream",
     "text": [
      "+--------------+-------+------------+-----+-----------+----------+--------------------+--------------------+----+-----+----+-----+\n",
      "|         title|address|        city|state|postal_code|     price|  facts and features|real estate provider|beds|baths|sqft| type|\n",
      "+--------------+-------+------------+-----+-----------+----------+--------------------+--------------------+----+-----+----+-----+\n",
      "|Condo for sale|   null|  Somerville|   MA|      02145|  $342,000|2 bds, 1.0 ba ,70...|William Raveis R....|   2|    1| 705|Condo|\n",
      "|Condo for sale|   null|      Boston|   MA|      02116|$1,700,000|2 bds, 2.0 ba ,12...|Century 21 North ...|   2|    2|1228|Condo|\n",
      "|Condo for sale|   null|      Boston|   MA|      02118|  $336,500|1 bds, 1.0 ba ,10...|Maloney Propertie...|   1|    1|1000|Condo|\n",
      "|House for sale|   null|      Boston|   MA|      02118|$9,950,000|4 bds, 7.0 ba ,68...|Campion & Company...|   4|    7|6836|House|\n",
      "|Condo for sale|   null|      Boston|   MA|      02128|  $479,000|2 bds, 3.0 ba ,10...|Berkshire Hathawa...|   2|    3|1000|Condo|\n",
      "|House for sale|   null| East Boston|   MA|      02128|  $899,000|3 bds, 3.0 ba ,23...|Berkshire Hathawa...|   3|    3|2313|House|\n",
      "|Condo for sale|   null|  Somerville|   MA|      02145|  $397,300|2 bds, 1.0 ba ,78...|William Raveis R....|   2|    1| 780|Condo|\n",
      "|Condo for sale|   null|South Boston|   MA|      02127|  $619,900|2 bds, 1.0 ba ,85...|Bento Real Estate...|   2|    1| 856|Condo|\n",
      "|Condo for sale|   null|      Boston|   MA|      02116|  $850,000|1 bds, 1.0 ba ,67...|Engel & Volkers B...|   1|    1| 675|Condo|\n",
      "|Condo for sale|   null|      Boston|   MA|      02114|  $649,900|2 bds, 1.0 ba ,51...|Leading Edge Real...|   2|    1| 511|Condo|\n",
      "|Condo for sale|   null|      Boston|   MA|      02114|  $625,000|2 bds, 2.0 ba ,10...|Keller Williams R...|   2|    2|1099|Condo|\n",
      "|Condo for sale|   null|  Somerville|   MA|      02143|   $80,000|0 bds, None ba ,1...|The Greene Realty...|   0|    0| 126|Condo|\n",
      "|Condo for sale|   null|      Boston|   MA|      02116|$1,425,000|3 bds, 2.0 ba ,10...|        Redfin Corp.|   3|    2|1070|Condo|\n",
      "|Condo for sale|   null|      Boston|   MA|      02128|  $199,000|2 bds, 1.0 ba ,62...| Perlera Real Estate|   2|    1| 624|Condo|\n",
      "|House for sale|   null|      Boston|   MA|      02113|$1,200,000|2 bds, 1.0 ba ,11...|       CL Properties|   2|    1|1165|House|\n",
      "|Condo for sale|   null|South Boston|   MA|      02127|  $499,950|1 bds, 1.0 ba ,50...|      One Way Realty|   1|    1| 500|Condo|\n",
      "|Condo for sale|   null| Charlestown|   MA|      02129|  $739,000|2 bds, 2.0 ba ,93...|             Compass|   2|    2| 932|Condo|\n",
      "|House for sale|   null|      Boston|   MA|      02129|$1,119,000|3 bds, 4.0 ba ,16...|All Star Realty, ...|   3|    4|1680|House|\n",
      "|House for sale|   null|South Boston|   MA|      02127|$1,699,000|4 bds, 3.0 ba ,20...|             Compass|   4|    3|2043|House|\n",
      "|House for sale|   null|      Boston|   MA|      02128|  $589,000|2 bds, 2.0 ba ,12...|Gibson Sotheby's ...|   2|    2|1200|House|\n",
      "|Condo for sale|   null|      Boston|   MA|      02127|  $919,000|2 bds, 2.0 ba ,11...|             Compass|   2|    2|1136|Condo|\n",
      "|Condo for sale|   null|South Boston|   MA|      02127|  $479,000|1 bds, 1.0 ba ,62...|Seaport Realty Group|   1|    1| 625|Condo|\n",
      "|Condo for sale|   null|      Boston|   MA|      02215|  $360,000|0 bds, 1.0 ba ,28...|             Compass|   0|    1| 287|Condo|\n",
      "|Condo for sale|   null|South Boston|   MA|      02127|  $495,000|1 bds, 1.0 ba ,52...|          eXp Realty|   1|    1| 520|Condo|\n",
      "|Condo for sale|   null|      Boston|   MA|      02116|$1,150,000|2 bds, 2.0 ba ,94...|Gibson Sotheby's ...|   2|    2| 945|Condo|\n",
      "|House for sale|   null|      Boston|   MA|      02115|$9,750,000|4 bds, 7.0 ba ,47...|MGS Group Real Es...|   4|    7|4754|House|\n",
      "|Condo for sale|   null|      Boston|   MA|      02129|  $649,900|2 bds, 2.0 ba ,10...|Lamacchia Realty,...|   2|    2|1037|Condo|\n",
      "|Condo for sale|   null|South Boston|   MA|      02127|  $625,000|2 bds, 2.0 ba ,10...|             Compass|   2|    2|1020|Condo|\n",
      "|Condo for sale|   null|      Boston|   MA|      02109|  $749,000|2 bds, 2.0 ba ,11...|Keller Williams R...|   2|    2|1133|Condo|\n",
      "|Condo for sale|   null|     Roxbury|   MA|      02119|  $515,000|2 bds, 2.0 ba ,85...|              Access|   2|    2| 850|Condo|\n",
      "|Condo for sale|   null|      Boston|   MA|      02118|  $359,040|1 bds, 1.0 ba ,10...|             Compass|   1|    1|1002|Condo|\n",
      "|House for sale|   null|  Somerville|   MA|      02145|$2,075,000|4 bds, 4.0 ba ,31...|Gibson Sotheby's ...|   4|    4|3121|House|\n",
      "|Condo for sale|   null|South Boston|   MA|      02127|  $849,000|3 bds, 2.0 ba ,17...|Capital Residenti...|   3|    2|1789|Condo|\n",
      "|House for sale|   null|      Boston|   MA|      02114|$3,200,000|3 bds, 3.0 ba ,20...|William Raveis R....|   3|    3|2048|House|\n",
      "|Condo for sale|   null|     Chelsea|   MA|      02150|  $459,000|2 bds, 1.0 ba ,90...|RE/MAX Andrew Rea...|   2|    1| 900|Condo|\n",
      "|Condo for sale|   null|      Boston|   MA|      02115|  $699,900|1 bds, 1.0 ba ,67...|Gibson Sotheby's ...|   1|    1| 678|Condo|\n",
      "|Condo for sale|   null|      Boston|   MA|      02210|$1,775,000|2 bds, 2.0 ba ,10...|TCC / EchelonSeaport|   2|    2|1054|Condo|\n",
      "|Condo for sale|   null|South Boston|   MA|      02127|  $749,900|2 bds, 2.0 ba ,12...|Burns Realty & In...|   2|    2|1215|Condo|\n",
      "|House for sale|   null|South Boston|   MA|      02127|$1,175,000|3 bds, 3.0 ba ,18...|Coldwell Banker R...|   3|    3|1867|House|\n",
      "|House for sale|   null|South Boston|   MA|      02127|$1,250,000|4 bds, 5.0 ba ,23...|Village Realty HM...|   4|    5|2322|House|\n",
      "|Condo for sale|   null|      Boston|   MA|      02210|$1,775,000|2 bds, 2.0 ba ,10...|TCC / EchelonSeaport|   2|    2|1054|Condo|\n",
      "|Condo for sale|   null|      Boston|   MA|      02210|$2,495,000|2 bds, 3.0 ba ,13...|TCC / EchelonSeaport|   2|    3|1344|Condo|\n",
      "|Condo for sale|   null|      Boston|   MA|      02210|$2,999,000|2 bds, 3.0 ba ,15...|TCC / EchelonSeaport|   2|    3|1527|Condo|\n",
      "|Condo for sale|   null|      Boston|   MA|      02210|$6,699,000|3 bds, 5.0 ba ,42...|Campion & Company...|   3|    5|4211|Condo|\n",
      "|Condo for sale|   null|      Boston|   MA|      02210|$6,992,000|3 bds, 4.0 ba ,24...|Advisors Living -...|   3|    4|2462|Condo|\n",
      "|Condo for sale|   null|      Boston|   MA|      02210|$3,995,000|3 bds, 4.0 ba ,28...|Campion & Company...|   3|    4|2845|Condo|\n",
      "|Condo for sale|   null|      Boston|   MA|      02210|  $955,000|1 bds, 1.0 ba ,10...|             Compass|   1|    1|1087|Condo|\n",
      "|Condo for sale|   null|      Boston|   MA|      02210|  $822,000|1 bds, 1.0 ba ,11...|The Greene Realty...|   1|    1|1140|Condo|\n",
      "|Condo for sale|   null|      Boston|   MA|      02210|$7,200,000|3 bds, 4.0 ba ,26...|Coldwell Banker R...|   3|    4|2674|Condo|\n",
      "|Condo for sale|   null|      Boston|   MA|      02210|  $589,000|1 bds, 1.0 ba ,52...|Keller Williams R...|   1|    1| 520|Condo|\n",
      "+--------------+-------+------------+-----+-----------+----------+--------------------+--------------------+----+-----+----+-----+\n",
      "only showing top 50 rows\n",
      "\n"
     ]
    }
   ],
   "source": [
    "#Create function which extracts the type (condo, house,apartment, etc.) from a string\n",
    "def types(str):\n",
    "    if 'condo' in str.lower():\n",
    "        return \"Condo\"\n",
    "    elif \"house\" in str.lower():\n",
    "        return \"House\"\n",
    "    elif \"land\" in str.lower():\n",
    "        return \"Lot/Land\"\n",
    "    elif \"construction\" in str.lower():\n",
    "        return \"New Construction\"\n",
    "    elif \"home\" in str.lower():\n",
    "        return \"Family Home\"\n",
    "    else:\n",
    "        return \"Other type\"\n",
    "\n",
    "#Create user-defined function for type\n",
    "typesUDF=udf(lambda z:types(z),StringType())   \n",
    "\n",
    "#Apply UDF in a specific column and create a new column in the DataFrame with the type (condo, house,apartment, etc.)\n",
    "df = df.withColumn('type',typesUDF('title'))\n",
    "\n",
    "df.show(50)"
   ]
  },
  {
   "cell_type": "markdown",
   "id": "1f9e9d14",
   "metadata": {},
   "source": [
    "### Question 5\n",
    "\n",
    "Extract offer. You will implement a UDF that processes the `title` column and returns the type of offer. This can be `sale`, `rent`, `sold`, `forclose`."
   ]
  },
  {
   "cell_type": "code",
   "execution_count": 12,
   "id": "8df3ff3b",
   "metadata": {},
   "outputs": [
    {
     "name": "stdout",
     "output_type": "stream",
     "text": [
      "+--------------+-------+------------+-----+-----------+----------+--------------------+--------------------+----+-----+----+-----+------+\n",
      "|         title|address|        city|state|postal_code|     price|  facts and features|real estate provider|beds|baths|sqft| type|offers|\n",
      "+--------------+-------+------------+-----+-----------+----------+--------------------+--------------------+----+-----+----+-----+------+\n",
      "|Condo for sale|   null|  Somerville|   MA|      02145|  $342,000|2 bds, 1.0 ba ,70...|William Raveis R....|   2|    1| 705|Condo|  sale|\n",
      "|Condo for sale|   null|      Boston|   MA|      02116|$1,700,000|2 bds, 2.0 ba ,12...|Century 21 North ...|   2|    2|1228|Condo|  sale|\n",
      "|Condo for sale|   null|      Boston|   MA|      02118|  $336,500|1 bds, 1.0 ba ,10...|Maloney Propertie...|   1|    1|1000|Condo|  sale|\n",
      "|House for sale|   null|      Boston|   MA|      02118|$9,950,000|4 bds, 7.0 ba ,68...|Campion & Company...|   4|    7|6836|House|  sale|\n",
      "|Condo for sale|   null|      Boston|   MA|      02128|  $479,000|2 bds, 3.0 ba ,10...|Berkshire Hathawa...|   2|    3|1000|Condo|  sale|\n",
      "|House for sale|   null| East Boston|   MA|      02128|  $899,000|3 bds, 3.0 ba ,23...|Berkshire Hathawa...|   3|    3|2313|House|  sale|\n",
      "|Condo for sale|   null|  Somerville|   MA|      02145|  $397,300|2 bds, 1.0 ba ,78...|William Raveis R....|   2|    1| 780|Condo|  sale|\n",
      "|Condo for sale|   null|South Boston|   MA|      02127|  $619,900|2 bds, 1.0 ba ,85...|Bento Real Estate...|   2|    1| 856|Condo|  sale|\n",
      "|Condo for sale|   null|      Boston|   MA|      02116|  $850,000|1 bds, 1.0 ba ,67...|Engel & Volkers B...|   1|    1| 675|Condo|  sale|\n",
      "|Condo for sale|   null|      Boston|   MA|      02114|  $649,900|2 bds, 1.0 ba ,51...|Leading Edge Real...|   2|    1| 511|Condo|  sale|\n",
      "|Condo for sale|   null|      Boston|   MA|      02114|  $625,000|2 bds, 2.0 ba ,10...|Keller Williams R...|   2|    2|1099|Condo|  sale|\n",
      "|Condo for sale|   null|  Somerville|   MA|      02143|   $80,000|0 bds, None ba ,1...|The Greene Realty...|   0|    0| 126|Condo|  sale|\n",
      "|Condo for sale|   null|      Boston|   MA|      02116|$1,425,000|3 bds, 2.0 ba ,10...|        Redfin Corp.|   3|    2|1070|Condo|  sale|\n",
      "|Condo for sale|   null|      Boston|   MA|      02128|  $199,000|2 bds, 1.0 ba ,62...| Perlera Real Estate|   2|    1| 624|Condo|  sale|\n",
      "|House for sale|   null|      Boston|   MA|      02113|$1,200,000|2 bds, 1.0 ba ,11...|       CL Properties|   2|    1|1165|House|  sale|\n",
      "|Condo for sale|   null|South Boston|   MA|      02127|  $499,950|1 bds, 1.0 ba ,50...|      One Way Realty|   1|    1| 500|Condo|  sale|\n",
      "|Condo for sale|   null| Charlestown|   MA|      02129|  $739,000|2 bds, 2.0 ba ,93...|             Compass|   2|    2| 932|Condo|  sale|\n",
      "|House for sale|   null|      Boston|   MA|      02129|$1,119,000|3 bds, 4.0 ba ,16...|All Star Realty, ...|   3|    4|1680|House|  sale|\n",
      "|House for sale|   null|South Boston|   MA|      02127|$1,699,000|4 bds, 3.0 ba ,20...|             Compass|   4|    3|2043|House|  sale|\n",
      "|House for sale|   null|      Boston|   MA|      02128|  $589,000|2 bds, 2.0 ba ,12...|Gibson Sotheby's ...|   2|    2|1200|House|  sale|\n",
      "|Condo for sale|   null|      Boston|   MA|      02127|  $919,000|2 bds, 2.0 ba ,11...|             Compass|   2|    2|1136|Condo|  sale|\n",
      "|Condo for sale|   null|South Boston|   MA|      02127|  $479,000|1 bds, 1.0 ba ,62...|Seaport Realty Group|   1|    1| 625|Condo|  sale|\n",
      "|Condo for sale|   null|      Boston|   MA|      02215|  $360,000|0 bds, 1.0 ba ,28...|             Compass|   0|    1| 287|Condo|  sale|\n",
      "|Condo for sale|   null|South Boston|   MA|      02127|  $495,000|1 bds, 1.0 ba ,52...|          eXp Realty|   1|    1| 520|Condo|  sale|\n",
      "|Condo for sale|   null|      Boston|   MA|      02116|$1,150,000|2 bds, 2.0 ba ,94...|Gibson Sotheby's ...|   2|    2| 945|Condo|  sale|\n",
      "|House for sale|   null|      Boston|   MA|      02115|$9,750,000|4 bds, 7.0 ba ,47...|MGS Group Real Es...|   4|    7|4754|House|  sale|\n",
      "|Condo for sale|   null|      Boston|   MA|      02129|  $649,900|2 bds, 2.0 ba ,10...|Lamacchia Realty,...|   2|    2|1037|Condo|  sale|\n",
      "|Condo for sale|   null|South Boston|   MA|      02127|  $625,000|2 bds, 2.0 ba ,10...|             Compass|   2|    2|1020|Condo|  sale|\n",
      "|Condo for sale|   null|      Boston|   MA|      02109|  $749,000|2 bds, 2.0 ba ,11...|Keller Williams R...|   2|    2|1133|Condo|  sale|\n",
      "|Condo for sale|   null|     Roxbury|   MA|      02119|  $515,000|2 bds, 2.0 ba ,85...|              Access|   2|    2| 850|Condo|  sale|\n",
      "|Condo for sale|   null|      Boston|   MA|      02118|  $359,040|1 bds, 1.0 ba ,10...|             Compass|   1|    1|1002|Condo|  sale|\n",
      "|House for sale|   null|  Somerville|   MA|      02145|$2,075,000|4 bds, 4.0 ba ,31...|Gibson Sotheby's ...|   4|    4|3121|House|  sale|\n",
      "|Condo for sale|   null|South Boston|   MA|      02127|  $849,000|3 bds, 2.0 ba ,17...|Capital Residenti...|   3|    2|1789|Condo|  sale|\n",
      "|House for sale|   null|      Boston|   MA|      02114|$3,200,000|3 bds, 3.0 ba ,20...|William Raveis R....|   3|    3|2048|House|  sale|\n",
      "|Condo for sale|   null|     Chelsea|   MA|      02150|  $459,000|2 bds, 1.0 ba ,90...|RE/MAX Andrew Rea...|   2|    1| 900|Condo|  sale|\n",
      "|Condo for sale|   null|      Boston|   MA|      02115|  $699,900|1 bds, 1.0 ba ,67...|Gibson Sotheby's ...|   1|    1| 678|Condo|  sale|\n",
      "|Condo for sale|   null|      Boston|   MA|      02210|$1,775,000|2 bds, 2.0 ba ,10...|TCC / EchelonSeaport|   2|    2|1054|Condo|  sale|\n",
      "|Condo for sale|   null|South Boston|   MA|      02127|  $749,900|2 bds, 2.0 ba ,12...|Burns Realty & In...|   2|    2|1215|Condo|  sale|\n",
      "|House for sale|   null|South Boston|   MA|      02127|$1,175,000|3 bds, 3.0 ba ,18...|Coldwell Banker R...|   3|    3|1867|House|  sale|\n",
      "|House for sale|   null|South Boston|   MA|      02127|$1,250,000|4 bds, 5.0 ba ,23...|Village Realty HM...|   4|    5|2322|House|  sale|\n",
      "|Condo for sale|   null|      Boston|   MA|      02210|$1,775,000|2 bds, 2.0 ba ,10...|TCC / EchelonSeaport|   2|    2|1054|Condo|  sale|\n",
      "|Condo for sale|   null|      Boston|   MA|      02210|$2,495,000|2 bds, 3.0 ba ,13...|TCC / EchelonSeaport|   2|    3|1344|Condo|  sale|\n",
      "|Condo for sale|   null|      Boston|   MA|      02210|$2,999,000|2 bds, 3.0 ba ,15...|TCC / EchelonSeaport|   2|    3|1527|Condo|  sale|\n",
      "|Condo for sale|   null|      Boston|   MA|      02210|$6,699,000|3 bds, 5.0 ba ,42...|Campion & Company...|   3|    5|4211|Condo|  sale|\n",
      "|Condo for sale|   null|      Boston|   MA|      02210|$6,992,000|3 bds, 4.0 ba ,24...|Advisors Living -...|   3|    4|2462|Condo|  sale|\n",
      "|Condo for sale|   null|      Boston|   MA|      02210|$3,995,000|3 bds, 4.0 ba ,28...|Campion & Company...|   3|    4|2845|Condo|  sale|\n",
      "|Condo for sale|   null|      Boston|   MA|      02210|  $955,000|1 bds, 1.0 ba ,10...|             Compass|   1|    1|1087|Condo|  sale|\n",
      "|Condo for sale|   null|      Boston|   MA|      02210|  $822,000|1 bds, 1.0 ba ,11...|The Greene Realty...|   1|    1|1140|Condo|  sale|\n",
      "|Condo for sale|   null|      Boston|   MA|      02210|$7,200,000|3 bds, 4.0 ba ,26...|Coldwell Banker R...|   3|    4|2674|Condo|  sale|\n",
      "|Condo for sale|   null|      Boston|   MA|      02210|  $589,000|1 bds, 1.0 ba ,52...|Keller Williams R...|   1|    1| 520|Condo|  sale|\n",
      "+--------------+-------+------------+-----+-----------+----------+--------------------+--------------------+----+-----+----+-----+------+\n",
      "only showing top 50 rows\n",
      "\n"
     ]
    }
   ],
   "source": [
    "#Create function which extracts the offer (sale, rent,sold, forclose) from a string\n",
    "def offers(str):\n",
    "    if 'sale' in str.lower():\n",
    "        return \"sale\"\n",
    "    elif \"rent\" in str.lower():\n",
    "        return \"rent\"\n",
    "    elif \"sold\" in str.lower():\n",
    "        return \"sold\"\n",
    "    elif \"foreclosure\" in str.lower():\n",
    "        return \"foreclose\"\n",
    "    else:\n",
    "        return \"Other offer\"\n",
    "\n",
    "#Create user-defined function for offer\n",
    "offersUDF=udf(lambda z:offers(z),StringType())   \n",
    "\n",
    "#Apply UDF in a specific column and create a new column in the DataFrame with the offer (sale, rent,sold, forclose)\n",
    "df = df.withColumn('offers',offersUDF('title'))\n",
    "\n",
    "df.show(50)"
   ]
  },
  {
   "cell_type": "markdown",
   "id": "b27dda06",
   "metadata": {},
   "source": [
    "### Question 6\n",
    "\n",
    "Filter out listings that are not for sale."
   ]
  },
  {
   "cell_type": "code",
   "execution_count": 13,
   "id": "6f38bd13",
   "metadata": {},
   "outputs": [],
   "source": [
    "df=df[df.offers=='sale']"
   ]
  },
  {
   "cell_type": "markdown",
   "id": "80fc1413",
   "metadata": {},
   "source": [
    "### Question 7\n",
    "\n",
    "Extract price. You will implement a UDF that processes the `price` column and extract the price. Prices are stored as strings in the CSV. This UDF parses the string and returns the price as an integer."
   ]
  },
  {
   "cell_type": "code",
   "execution_count": 14,
   "id": "28c00bc2",
   "metadata": {},
   "outputs": [
    {
     "name": "stdout",
     "output_type": "stream",
     "text": [
      "+--------------+-------+------------+-----+-----------+----------+--------------------+--------------------+----+-----+----+-----+------+-------+\n",
      "|         title|address|        city|state|postal_code|     price|  facts and features|real estate provider|beds|baths|sqft| type|offers| prices|\n",
      "+--------------+-------+------------+-----+-----------+----------+--------------------+--------------------+----+-----+----+-----+------+-------+\n",
      "|Condo for sale|   null|  Somerville|   MA|      02145|  $342,000|2 bds, 1.0 ba ,70...|William Raveis R....|   2|    1| 705|Condo|  sale| 342000|\n",
      "|Condo for sale|   null|      Boston|   MA|      02116|$1,700,000|2 bds, 2.0 ba ,12...|Century 21 North ...|   2|    2|1228|Condo|  sale|1700000|\n",
      "|Condo for sale|   null|      Boston|   MA|      02118|  $336,500|1 bds, 1.0 ba ,10...|Maloney Propertie...|   1|    1|1000|Condo|  sale| 336500|\n",
      "|House for sale|   null|      Boston|   MA|      02118|$9,950,000|4 bds, 7.0 ba ,68...|Campion & Company...|   4|    7|6836|House|  sale|9950000|\n",
      "|Condo for sale|   null|      Boston|   MA|      02128|  $479,000|2 bds, 3.0 ba ,10...|Berkshire Hathawa...|   2|    3|1000|Condo|  sale| 479000|\n",
      "|House for sale|   null| East Boston|   MA|      02128|  $899,000|3 bds, 3.0 ba ,23...|Berkshire Hathawa...|   3|    3|2313|House|  sale| 899000|\n",
      "|Condo for sale|   null|  Somerville|   MA|      02145|  $397,300|2 bds, 1.0 ba ,78...|William Raveis R....|   2|    1| 780|Condo|  sale| 397300|\n",
      "|Condo for sale|   null|South Boston|   MA|      02127|  $619,900|2 bds, 1.0 ba ,85...|Bento Real Estate...|   2|    1| 856|Condo|  sale| 619900|\n",
      "|Condo for sale|   null|      Boston|   MA|      02116|  $850,000|1 bds, 1.0 ba ,67...|Engel & Volkers B...|   1|    1| 675|Condo|  sale| 850000|\n",
      "|Condo for sale|   null|      Boston|   MA|      02114|  $649,900|2 bds, 1.0 ba ,51...|Leading Edge Real...|   2|    1| 511|Condo|  sale| 649900|\n",
      "+--------------+-------+------------+-----+-----------+----------+--------------------+--------------------+----+-----+----+-----+------+-------+\n",
      "only showing top 10 rows\n",
      "\n"
     ]
    }
   ],
   "source": [
    "#Create function which extracts the price as integer from a string\n",
    "def price(str):\n",
    "    return int(float(str[1:].replace(',','').replace('+','')))\n",
    "\n",
    "#Create user-defined function for price\n",
    "priceUDF=udf(lambda z:price(z),StringType())   \n",
    "\n",
    "#Apply UDF in a specific column and create a new column in the DataFrame with the price as integer\n",
    "df = df.withColumn('prices',priceUDF('price'))\n",
    "\n",
    "df.show(10)"
   ]
  },
  {
   "cell_type": "markdown",
   "id": "adbb6d88",
   "metadata": {},
   "source": [
    "### Question 8\n",
    "\n",
    "Filter out listings with more than 10 bedrooms"
   ]
  },
  {
   "cell_type": "code",
   "execution_count": 15,
   "id": "05e7ec0d",
   "metadata": {},
   "outputs": [],
   "source": [
    "df=df[df.beds<=10]"
   ]
  },
  {
   "cell_type": "markdown",
   "id": "84fd0f8f",
   "metadata": {},
   "source": [
    "### Question 9\n",
    "\n",
    "Filter out listings with price greater than 20000000 and lower than 100000"
   ]
  },
  {
   "cell_type": "code",
   "execution_count": 16,
   "id": "f72adcbe",
   "metadata": {},
   "outputs": [],
   "source": [
    "df=df[(df.prices<20000000) & (df.prices>100000)]"
   ]
  },
  {
   "cell_type": "markdown",
   "id": "de7245ef",
   "metadata": {},
   "source": [
    "### Question 10\n",
    "\n",
    "Filter out listings that are not houses"
   ]
  },
  {
   "cell_type": "code",
   "execution_count": 17,
   "id": "5e79749d",
   "metadata": {},
   "outputs": [],
   "source": [
    "df=df[df.type==\"House\"]"
   ]
  },
  {
   "cell_type": "code",
   "execution_count": 23,
   "id": "a395e65d",
   "metadata": {},
   "outputs": [
    {
     "name": "stdout",
     "output_type": "stream",
     "text": [
      "+--------------+------------+-----+-----------+----------+--------------------+--------------------+----+-----+----+-----+------+-------+\n",
      "|         title|        city|state|postal_code|     price|  facts and features|real estate provider|beds|baths|sqft| type|offers| prices|\n",
      "+--------------+------------+-----+-----------+----------+--------------------+--------------------+----+-----+----+-----+------+-------+\n",
      "|House for sale|      Boston|   MA|      02118|$9,950,000|4 bds, 7.0 ba ,68...|Campion & Company...|   4|    7|6836|House|  sale|9950000|\n",
      "|House for sale| East Boston|   MA|      02128|  $899,000|3 bds, 3.0 ba ,23...|Berkshire Hathawa...|   3|    3|2313|House|  sale| 899000|\n",
      "|House for sale|      Boston|   MA|      02113|$1,200,000|2 bds, 1.0 ba ,11...|       CL Properties|   2|    1|1165|House|  sale|1200000|\n",
      "|House for sale|      Boston|   MA|      02129|$1,119,000|3 bds, 4.0 ba ,16...|All Star Realty, ...|   3|    4|1680|House|  sale|1119000|\n",
      "|House for sale|South Boston|   MA|      02127|$1,699,000|4 bds, 3.0 ba ,20...|             Compass|   4|    3|2043|House|  sale|1699000|\n",
      "|House for sale|      Boston|   MA|      02128|  $589,000|2 bds, 2.0 ba ,12...|Gibson Sotheby's ...|   2|    2|1200|House|  sale| 589000|\n",
      "|House for sale|      Boston|   MA|      02115|$9,750,000|4 bds, 7.0 ba ,47...|MGS Group Real Es...|   4|    7|4754|House|  sale|9750000|\n",
      "|House for sale|  Somerville|   MA|      02145|$2,075,000|4 bds, 4.0 ba ,31...|Gibson Sotheby's ...|   4|    4|3121|House|  sale|2075000|\n",
      "|House for sale|      Boston|   MA|      02114|$3,200,000|3 bds, 3.0 ba ,20...|William Raveis R....|   3|    3|2048|House|  sale|3200000|\n",
      "|House for sale|South Boston|   MA|      02127|$1,175,000|3 bds, 3.0 ba ,18...|Coldwell Banker R...|   3|    3|1867|House|  sale|1175000|\n",
      "+--------------+------------+-----+-----------+----------+--------------------+--------------------+----+-----+----+-----+------+-------+\n",
      "only showing top 10 rows\n",
      "\n"
     ]
    }
   ],
   "source": [
    "df.show(10)"
   ]
  },
  {
   "cell_type": "markdown",
   "id": "dd0194d8",
   "metadata": {},
   "source": [
    "### Question 11\n",
    "\n",
    "Calculate average price per sqft for houses for sale grouping them by the number of bedrooms"
   ]
  },
  {
   "cell_type": "code",
   "execution_count": 19,
   "id": "dcd00848",
   "metadata": {},
   "outputs": [
    {
     "name": "stdout",
     "output_type": "stream",
     "text": [
      "+----+--------------------+\n",
      "|beds|avg((prices / sqft))|\n",
      "+----+--------------------+\n",
      "|   7|  1126.0252348993286|\n",
      "|   3|   687.2172712125251|\n",
      "|   8|   1567.647058823529|\n",
      "|   0|              1250.0|\n",
      "|   5|   733.9532477532824|\n",
      "|   6|   422.3111656297147|\n",
      "|   9|  1108.1412183984849|\n",
      "|   4|   909.1473996440552|\n",
      "|   2|   716.0381965996941|\n",
      "+----+--------------------+\n",
      "\n"
     ]
    }
   ],
   "source": [
    "df.groupBy(\"beds\").agg(pyspark.sql.functions.avg(df.prices/df.sqft)).show()"
   ]
  },
  {
   "cell_type": "code",
   "execution_count": null,
   "id": "14173973",
   "metadata": {},
   "outputs": [],
   "source": []
  }
 ],
 "metadata": {
  "kernelspec": {
   "display_name": "Python 3 (ipykernel)",
   "language": "python",
   "name": "python3"
  },
  "language_info": {
   "codemirror_mode": {
    "name": "ipython",
    "version": 3
   },
   "file_extension": ".py",
   "mimetype": "text/x-python",
   "name": "python",
   "nbconvert_exporter": "python",
   "pygments_lexer": "ipython3",
   "version": "3.8.8"
  }
 },
 "nbformat": 4,
 "nbformat_minor": 5
}
